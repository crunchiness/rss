{
 "cells": [
  {
   "cell_type": "code",
   "execution_count": 8,
   "metadata": {
    "collapsed": false
   },
   "outputs": [
    {
     "name": "stdout",
     "output_type": "stream",
     "text": [
      "Populating the interactive namespace from numpy and matplotlib\n"
     ]
    },
    {
     "name": "stderr",
     "output_type": "stream",
     "text": [
      "WARNING: pylab import has clobbered these variables: ['random', 'pi']\n",
      "`%matplotlib` prevents importing * from pylab and numpy\n"
     ]
    }
   ],
   "source": [
    "%pylab inline"
   ]
  },
  {
   "cell_type": "code",
   "execution_count": 722,
   "metadata": {
    "collapsed": false
   },
   "outputs": [],
   "source": [
    "from state.map import X_MAX, Y_MAX, ARENA_WALLS \n",
    "from math import sqrt"
   ]
  },
  {
   "cell_type": "code",
   "execution_count": 723,
   "metadata": {
    "collapsed": true
   },
   "outputs": [],
   "source": [
    "from math import pi"
   ]
  },
  {
   "cell_type": "code",
   "execution_count": 516,
   "metadata": {
    "collapsed": true
   },
   "outputs": [],
   "source": [
    "# Generate empty space with right dimensions\n",
    "\n",
    "def gen_lines():\n",
    "    lines = []\n",
    "    for wall in ARENA_WALLS:\n",
    "        start = wall[0]\n",
    "        delta = wall[1]\n",
    "\n",
    "        end = np.add(start, delta)\n",
    "\n",
    "        line_xs = []\n",
    "        line_ys = []\n",
    "\n",
    "        line_xs.append(start[0])\n",
    "        line_xs.append(end[0])\n",
    "        line_ys.append(start[1])\n",
    "        line_ys.append(end[1])\n",
    "\n",
    "        lines.append(Line2D(line_xs, line_ys, linewidth=2))\n",
    "        \n",
    "    return lines \n",
    "\n",
    "def plot(particles, robot_real):\n",
    "    dpi = 80\n",
    "    width = X_MAX / dpi;\n",
    "    height = Y_MAX / dpi;\n",
    "    figure = plt.figure(figsize=(width,height))\n",
    "\n",
    "    ax = figure.add_subplot(1,1,1)\n",
    "\n",
    "    ax.set_ylim(top=Y_MAX, bottom=0)\n",
    "    ax.set_xlim(right=X_MAX, left=0)\n",
    "\n",
    "    lines = gen_lines()\n",
    "    for line in lines:\n",
    "        ax.add_line(line)\n",
    "    \n",
    "    xs = []\n",
    "    ys = []\n",
    "    os = []\n",
    "    for robot in particles.data:\n",
    "        xs.append(robot.x)\n",
    "        ys.append(robot.y)\n",
    "        os.append(robot.orientation)\n",
    "\n",
    "    ax.quiver(xs, ys, np.sin(os), np.cos(os), pivot='mid')\n",
    "    \n",
    "    x, y, o = particles.get_position_by_weight()\n",
    "    ax.plot(x, y, 'ro')\n",
    "    ax.plot(robot_real.x, robot_real.y, 'bo')\n",
    "\n",
    "    return figure"
   ]
  },
  {
   "cell_type": "code",
   "execution_count": 839,
   "metadata": {
    "collapsed": false,
    "scrolled": true
   },
   "outputs": [
    {
     "data": {
      "image/png": "[encoded data removed]",
      "text/plain": [
       "<matplotlib.figure.Figure at 0x107521a10>"
      ]
     },
     "metadata": {},
     "output_type": "display_data"
    }
   ],
   "source": [
    "figure = plot(particles, robot)\n",
    "plt.show(figure)"
   ]
  },
  {
   "cell_type": "code",
   "execution_count": 824,
   "metadata": {
    "collapsed": false
   },
   "outputs": [],
   "source": [
    "reload(state.particle_filtering)\n",
    "particles = state.particle_filtering.Particles(n=15000)\n",
    "robot = state.particle_filtering.Robot()\n",
    "robot.set(70, 70, 0)"
   ]
  },
  {
   "cell_type": "code",
   "execution_count": 838,
   "metadata": {
    "collapsed": false
   },
   "outputs": [],
   "source": [
    "for i in xrange(1):\n",
    "    factor = 4\n",
    "    robot = robot.rotate(pi/factor)\n",
    "    particles.rotate(pi/factor)\n",
    "    particles.sense(robot.measurement_prediction())\n",
    "    distance = 10.0\n",
    "    robot = robot.forward(distance)\n",
    "    particles.forward(distance)\n",
    "    particles.sense(robot.measurement_prediction())"
   ]
  },
  {
   "cell_type": "code",
   "execution_count": 751,
   "metadata": {
    "collapsed": false
   },
   "outputs": [
    {
     "data": {
      "text/plain": [
       "{'IR_front': 3.0400941689148935, 'IR_right': 244.91967684507208}"
      ]
     },
     "execution_count": 751,
     "metadata": {},
     "output_type": "execute_result"
    }
   ],
   "source": [
    "robot.measurement_prediction()"
   ]
  },
  {
   "cell_type": "code",
   "execution_count": 752,
   "metadata": {
    "collapsed": false
   },
   "outputs": [
    {
     "data": {
      "text/plain": [
       "[x=67.75197 y=128.87117 orient=6.23281]"
      ]
     },
     "execution_count": 752,
     "metadata": {},
     "output_type": "execute_result"
    }
   ],
   "source": [
    "robot = robot.forward(distance)\n",
    "robot "
   ]
  },
  {
   "cell_type": "code",
   "execution_count": 836,
   "metadata": {
    "collapsed": false
   },
   "outputs": [],
   "source": [
    "particles.resample()"
   ]
  }
 ],
 "metadata": {
  "kernelspec": {
   "display_name": "Python 2",
   "language": "python",
   "name": "python2"
  },
  "language_info": {
   "codemirror_mode": {
    "name": "ipython",
    "version": 2
   },
   "file_extension": ".py",
   "mimetype": "text/x-python",
   "name": "python",
   "nbconvert_exporter": "python",
   "pygments_lexer": "ipython2",
   "version": "2.7.10"
  }
 },
 "nbformat": 4,
 "nbformat_minor": 0
}
