{
 "cells": [
  {
   "cell_type": "code",
   "execution_count": 3,
   "metadata": {
    "collapsed": false
   },
   "outputs": [
    {
     "name": "stdout",
     "output_type": "stream",
     "text": [
      "Populating the interactive namespace from numpy and matplotlib\n"
     ]
    },
    {
     "name": "stderr",
     "output_type": "stream",
     "text": [
      "WARNING: pylab import has clobbered these variables: ['f']\n",
      "`%matplotlib` prevents importing * from pylab and numpy\n"
     ]
    }
   ],
   "source": [
    "%pylab inline\n",
    "from state.map import X_MAX, Y_MAX, ARENA_WALLS \n",
    "from math import sqrt\n",
    "from math import pi\n",
    "import state.particle_filtering\n",
    "import numpy as np"
   ]
  },
  {
   "cell_type": "code",
   "execution_count": null,
   "metadata": {
    "collapsed": true
   },
   "outputs": [],
   "source": [
    "# Generate empty space with right dimensions\n",
    "\n",
    "def gen_lines():\n",
    "    lines = []\n",
    "    for wall in ARENA_WALLS:\n",
    "        start = wall[0]\n",
    "        delta = wall[1]\n",
    "\n",
    "        end = np.add(start, delta)\n",
    "\n",
    "        line_xs = []\n",
    "        line_ys = []\n",
    "\n",
    "        line_xs.append(start[0])\n",
    "        line_xs.append(end[0])\n",
    "        line_ys.append(start[1])\n",
    "        line_ys.append(end[1])\n",
    "\n",
    "        lines.append(Line2D(line_xs, line_ys, linewidth=2))\n",
    "        \n",
    "    return lines \n",
    "\n",
    "def plot(particles, robot):\n",
    "    dpi = 80\n",
    "    width = X_MAX / dpi;\n",
    "    height = Y_MAX / dpi;\n",
    "    figure = plt.figure(figsize=(width,height))\n",
    "\n",
    "    ax = figure.add_subplot(1,1,1)\n",
    "\n",
    "    ax.set_ylim(top=Y_MAX, bottom=0)\n",
    "    ax.set_xlim(right=X_MAX, left=0)\n",
    "\n",
    "    lines = gen_lines()\n",
    "    for line in lines:\n",
    "        ax.add_line(line)\n",
    "\n",
    "    transpose_locations = particles.locations.T\n",
    "    transpose_orientations = particles.orientations.T\n",
    "    \n",
    "    ax.quiver(transpose_locations[0], transpose_locations[1], np.sin(transpose_orientations), np.cos(transpose_orientations), pivot='mid')\n",
    "    \n",
    "    x, y, o = particles.get_position_by_weight(position_confidence=False)\n",
    "    ax.quiver(x, y, np.sin(o), np.cos(o), color='r', pivot='mid')\n",
    "    ax.quiver(robot.location[0], robot.location[1], \n",
    "              np.sin(robot.orientation), np.cos(robot.orientation), \n",
    "              color='b', pivot='mid')\n",
    "\n",
    "    return figure"
   ]
  },
  {
   "cell_type": "code",
   "execution_count": null,
   "metadata": {
    "collapsed": false
   },
   "outputs": [],
   "source": [
    "figure = plot(particles, robot)\n",
    "plt.show(figure)"
   ]
  },
  {
   "cell_type": "code",
   "execution_count": null,
   "metadata": {
    "collapsed": true
   },
   "outputs": [],
   "source": [
    "reload(state.particle_filtering)\n",
    "particles = state.particle_filtering.Particles(n=1000, where='1base')\n",
    "robot = state.particle_filtering.Robot(30, 40, 0)"
   ]
  },
  {
   "cell_type": "code",
   "execution_count": null,
   "metadata": {
    "collapsed": false
   },
   "outputs": [],
   "source": [
    "particles.resample()"
   ]
  },
  {
   "cell_type": "code",
   "execution_count": null,
   "metadata": {
    "collapsed": false
   },
   "outputs": [],
   "source": [
    "for i in xrange(1):\n",
    "    factor = -10\n",
    "    robot.rotate(pi/factor)\n",
    "    particles.rotate(pi/factor)\n",
    "    particles.sense(robot.measurement_prediction())\n",
    "    distance = 10.0\n",
    "    robot.forward(distance)\n",
    "    particles.forward(distance)\n",
    "    particles.sense(robot.measurement_prediction())\n",
    "    figure = plot(particles, robot)\n",
    "    plt.show(figure)\n",
    "    particles.resample()"
   ]
  },
  {
   "cell_type": "code",
   "execution_count": null,
   "metadata": {
    "collapsed": false
   },
   "outputs": [],
   "source": [
    "robot.measurement_prediction()"
   ]
  },
  {
   "cell_type": "code",
   "execution_count": null,
   "metadata": {
    "collapsed": true
   },
   "outputs": [],
   "source": [
    "particles.resample()"
   ]
  },
  {
   "cell_type": "code",
   "execution_count": null,
   "metadata": {
    "collapsed": false
   },
   "outputs": [],
   "source": [
    "robot.measurement_prediction()"
   ]
  },
  {
   "cell_type": "code",
   "execution_count": null,
   "metadata": {
    "collapsed": false
   },
   "outputs": [],
   "source": [
    "robot.rotate(1)"
   ]
  },
  {
   "cell_type": "code",
   "execution_count": null,
   "metadata": {
    "collapsed": false
   },
   "outputs": [],
   "source": [
    "reload(state.particle_filtering)"
   ]
  },
  {
   "cell_type": "code",
   "execution_count": null,
   "metadata": {
    "collapsed": true
   },
   "outputs": [],
   "source": [
    "particles.resample()"
   ]
  },
  {
   "cell_type": "code",
   "execution_count": null,
   "metadata": {
    "collapsed": true
   },
   "outputs": [],
   "source": [
    "orientations = np.zeros(10)\n",
    "ROTATION_STD_ABS = (5.0/360.0)*2*pi\n",
    "rotation = 1"
   ]
  },
  {
   "cell_type": "code",
   "execution_count": null,
   "metadata": {
    "collapsed": false
   },
   "outputs": [],
   "source": [
    "%timeit (orientations + (np.random.rand(10) * ROTATION_STD_ABS - 0.5 * ROTATION_STD_ABS + rotation)) % (2.0 * pi)"
   ]
  },
  {
   "cell_type": "code",
   "execution_count": null,
   "metadata": {
    "collapsed": false
   },
   "outputs": [],
   "source": [
    "%timeit np.mod(np.add(orientations,np.add(np.multiply(np.random.rand(10),ROTATION_STD_ABS),-0.5*ROTATION_STD_ABS + rotation)), 2.0 * pi)"
   ]
  },
  {
   "cell_type": "code",
   "execution_count": null,
   "metadata": {
    "collapsed": false
   },
   "outputs": [],
   "source": [
    "np.array([\n",
    "            [ np.cos(orientations), np.sin(orientations)],\n",
    "            [-np.sin(orientations), np.cos(orientations)]\n",
    "        ])"
   ]
  },
  {
   "cell_type": "code",
   "execution_count": null,
   "metadata": {
    "collapsed": true
   },
   "outputs": [],
   "source": [
    "N = 10"
   ]
  },
  {
   "cell_type": "code",
   "execution_count": null,
   "metadata": {
    "collapsed": true
   },
   "outputs": [],
   "source": [
    "unit = np.concatenate([np.zeros((N,1)), np.ones((N,1))], axis=1)"
   ]
  },
  {
   "cell_type": "code",
   "execution_count": null,
   "metadata": {
    "collapsed": true
   },
   "outputs": [],
   "source": [
    "FORWARD_STD_FRAC = 0.01"
   ]
  },
  {
   "cell_type": "code",
   "execution_count": null,
   "metadata": {
    "collapsed": false
   },
   "outputs": [],
   "source": [
    "np.add(\n",
    "    np.multiply(\n",
    "        np.random.rand(N),\n",
    "        FORWARD_STD_FRAC*distance\n",
    "    ),\n",
    "    (1-0.5*FORWARD_STD_FRAC)*distance\n",
    ")"
   ]
  },
  {
   "cell_type": "code",
   "execution_count": null,
   "metadata": {
    "collapsed": false
   },
   "outputs": [],
   "source": [
    "reload(state.particle_filtering)"
   ]
  },
  {
   "cell_type": "code",
   "execution_count": null,
   "metadata": {
    "collapsed": false
   },
   "outputs": [],
   "source": [
    "a = state.particle_filtering.Particles.generate_raycasting_distances()"
   ]
  },
  {
   "cell_type": "code",
   "execution_count": null,
   "metadata": {
    "collapsed": true
   },
   "outputs": [],
   "source": [
    "data_10_20 = np.load('data_10_20.dat.npy')\n",
    "data_20_30 = np.load('data_20_30.dat.npy')\n",
    "data_30_40 = np.load('data_30_40.dat.npy')\n",
    "raycasting_distances = np.concatenate([data_00_10[0:10],data_10_20[10:20],data_20_30[20:30],data_30_40[30:40]])\n",
    "np.save(\"raycasting_distances\", raycasting_distances)"
   ]
  },
  {
   "cell_type": "code",
   "execution_count": null,
   "metadata": {
    "collapsed": false
   },
   "outputs": [],
   "source": [
    "data = []\n",
    "for i in xrange(8):\n",
    "    data.append(np.load('bin2/data_' + str(i*20) + '_' + str((i+1)*20) + '.dat.npy')[i*20:(i+1)*20])\n",
    "raycasting_distances_bin2 = np.concatenate(data)\n",
    "raycasting_distances_bin2"
   ]
  },
  {
   "cell_type": "code",
   "execution_count": null,
   "metadata": {
    "collapsed": true
   },
   "outputs": [],
   "source": [
    "np.save(\"raycasting_distances_bin2\", raycasting_distances_bin2)"
   ]
  },
  {
   "cell_type": "code",
   "execution_count": null,
   "metadata": {
    "collapsed": false
   },
   "outputs": [],
   "source": [
    "raycasting_distances[3][3][126]"
   ]
  },
  {
   "cell_type": "code",
   "execution_count": null,
   "metadata": {
    "collapsed": false
   },
   "outputs": [],
   "source": [
    "reload(state.particle_filtering)"
   ]
  },
  {
   "cell_type": "code",
   "execution_count": null,
   "metadata": {
    "collapsed": true
   },
   "outputs": [],
   "source": [
    "n=100000\n",
    "distance = 60\n",
    "measurements = state.particle_filtering.Particles.model_beam(distance, n)\n",
    "predictions = np.multiply(np.ones(n), distance)"
   ]
  },
  {
   "cell_type": "code",
   "execution_count": null,
   "metadata": {
    "collapsed": false
   },
   "outputs": [],
   "source": [
    "state.particle_filtering.Particles.learn_intrinsic_parameters(measurements, predictions)"
   ]
  },
  {
   "cell_type": "code",
   "execution_count": null,
   "metadata": {
    "collapsed": false,
    "scrolled": true
   },
   "outputs": [],
   "source": [
    "\n",
    "np.std(measurements)"
   ]
  },
  {
   "cell_type": "code",
   "execution_count": 4,
   "metadata": {
    "collapsed": false
   },
   "outputs": [],
   "source": [
    "a = []\n",
    "f = open('./log/collect_front_IR_and_sonar_measurements0.csv', 'r')\n",
    "line = f.readline()\n",
    "while line:\n",
    "    line = line.replace(\"\\n\", \"\")\n",
    "    line = line.replace(\"[\", \"\")\n",
    "    line = line.replace(\"]\", \"\")\n",
    "    line = line.split(\",\")\n",
    "    b=[]\n",
    "    for i in line:\n",
    "        b.append(float(i))\n",
    "    a.append(b)\n",
    "    line = f.readline()\n",
    "\n",
    "measurements = np.array(a)"
   ]
  },
  {
   "cell_type": "code",
   "execution_count": 5,
   "metadata": {
    "collapsed": false
   },
   "outputs": [
    {
     "data": {
      "text/plain": [
       "(53206,)"
      ]
     },
     "execution_count": 5,
     "metadata": {},
     "output_type": "execute_result"
    }
   ],
   "source": [
    "measurements.T[0].shape"
   ]
  },
  {
   "cell_type": "code",
   "execution_count": 36,
   "metadata": {
    "collapsed": true
   },
   "outputs": [],
   "source": [
    "predictions = np.multiply(59.0, np.ones(measurements.T[0].shape))"
   ]
  },
  {
   "cell_type": "code",
   "execution_count": 35,
   "metadata": {
    "collapsed": true
   },
   "outputs": [],
   "source": [
    "predictions120 = np.multiply(120.0, np.ones(measurements.T[0].shape))"
   ]
  },
  {
   "cell_type": "code",
   "execution_count": 10,
   "metadata": {
    "collapsed": false
   },
   "outputs": [
    {
     "data": {
      "text/plain": [
       "(53206,)"
      ]
     },
     "execution_count": 10,
     "metadata": {},
     "output_type": "execute_result"
    }
   ],
   "source": [
    "predictions.shape"
   ]
  },
  {
   "cell_type": "code",
   "execution_count": 38,
   "metadata": {
    "collapsed": false
   },
   "outputs": [
    {
     "data": {
      "text/plain": [
       "<module 'robot.state.particle_filtering' from 'robot/state/particle_filtering.py'>"
      ]
     },
     "execution_count": 38,
     "metadata": {},
     "output_type": "execute_result"
    }
   ],
   "source": [
    "import robot.state.particle_filtering\n",
    "reload(robot.state.particle_filtering)"
   ]
  },
  {
   "cell_type": "code",
   "execution_count": 39,
   "metadata": {
    "collapsed": false
   },
   "outputs": [
    {
     "name": "stdout",
     "output_type": "stream",
     "text": [
      "[  9.56000109e-01   1.40907295e-06   1.02753333e+00   4.73875483e-01]\n",
      "[ 1.47533728  0.25893952  0.2528996   0.47023399]\n",
      "[ 1.13612821  0.6837292   0.16973938  0.46781351]\n",
      "[ 1.12777724  0.69337426  0.16849667  0.46776212]\n",
      "[ 1.1276737   0.69348846  0.16848623  0.46776192]\n",
      "[ 1.12767239  0.69348941  0.16848658  0.46776198]\n",
      "[ 1.12767235  0.69348938  0.16848664  0.46776198]\n",
      "[ 1.12767234  0.69348936  0.16848664  0.46776198]\n",
      "[ 1.12767233  0.69348936  0.16848664  0.46776198]\n",
      "[ 1.12767233  0.69348936  0.16848664  0.46776198]\n"
     ]
    },
    {
     "data": {
      "text/plain": [
       "[1.1276723335289058,\n",
       " 0.6934893607396542,\n",
       " 0.1684866409051181,\n",
       " 0.4677619782207791,\n",
       " 25.653927530165166,\n",
       " 0.010901277645409909]"
      ]
     },
     "execution_count": 39,
     "metadata": {},
     "output_type": "execute_result"
    }
   ],
   "source": [
    "robot.state.particle_filtering.Particles.learn_intrinsic_parameters(measurements.T[0], predictions120)"
   ]
  },
  {
   "cell_type": "code",
   "execution_count": 40,
   "metadata": {
    "collapsed": false,
    "scrolled": true
   },
   "outputs": [
    {
     "name": "stdout",
     "output_type": "stream",
     "text": [
      "[  3.81243528e+00   1.54740715e-06   1.93934239e-01   0.00000000e+00]\n",
      "[ 3.697511    0.19471828  0.11414156  0.        ]\n",
      "[ 3.51395554  0.38106169  0.11135351  0.        ]\n",
      "[ 3.51323915  0.3817866   0.1113452   0.        ]\n",
      "[ 3.51323783  0.38178773  0.11134521  0.        ]\n",
      "[ 3.51323782  0.38178774  0.11134521  0.        ]\n",
      "[ 3.51323782  0.38178774  0.11134521  0.        ]\n",
      "[ 3.51323782  0.38178774  0.11134521  0.        ]\n",
      "[ 3.51323782  0.38178774  0.11134521  0.        ]\n",
      "[ 3.51323782  0.38178774  0.11134521  0.        ]\n"
     ]
    },
    {
     "data": {
      "text/plain": [
       "[3.5132378215960895,\n",
       " 0.3817877358033755,\n",
       " 0.11134520952984188,\n",
       " 0.0,\n",
       " 2.5689187956017063,\n",
       " 0.017801905399325038]"
      ]
     },
     "execution_count": 40,
     "metadata": {},
     "output_type": "execute_result"
    }
   ],
   "source": [
    "robot.state.particle_filtering.Particles.learn_intrinsic_parameters(measurements.T[1], predictions)"
   ]
  },
  {
   "cell_type": "code",
   "execution_count": 41,
   "metadata": {
    "collapsed": false
   },
   "outputs": [
    {
     "name": "stdout",
     "output_type": "stream",
     "text": [
      "[  3.58907791e+00   5.54015792e-07   1.72048649e-01   0.00000000e+00]\n",
      "[ 3.35923778  0.29252314  0.10936599  0.        ]\n",
      "[ 3.19752347  0.4569699   0.10663376  0.        ]\n",
      "[ 3.19647098  0.45801365  0.10664223  0.        ]\n",
      "[ 3.19646645  0.45801761  0.10664302  0.        ]\n",
      "[ 3.19646638  0.45801763  0.10664304  0.        ]\n",
      "[ 3.19646638  0.45801763  0.10664304  0.        ]\n",
      "[ 3.19646638  0.45801763  0.10664304  0.        ]\n",
      "[ 3.19646638  0.45801763  0.10664304  0.        ]\n",
      "[ 3.19646638  0.45801763  0.10664304  0.        ]\n"
     ]
    },
    {
     "data": {
      "text/plain": [
       "[3.1964663753394977,\n",
       " 0.45801763386224276,\n",
       " 0.1066430442794567,\n",
       " 0.0,\n",
       " 3.3367205675817155,\n",
       " 0.01813218480166167]"
      ]
     },
     "execution_count": 41,
     "metadata": {},
     "output_type": "execute_result"
    }
   ],
   "source": [
    "robot.state.particle_filtering.Particles.learn_intrinsic_parameters(measurements.T[2], predictions)"
   ]
  }
 ],
 "metadata": {
  "kernelspec": {
   "display_name": "Python 2",
   "language": "python",
   "name": "python2"
  },
  "language_info": {
   "codemirror_mode": {
    "name": "ipython",
    "version": 2
   },
   "file_extension": ".py",
   "mimetype": "text/x-python",
   "name": "python",
   "nbconvert_exporter": "python",
   "pygments_lexer": "ipython2",
   "version": "2.7.10"
  }
 },
 "nbformat": 4,
 "nbformat_minor": 0
}
