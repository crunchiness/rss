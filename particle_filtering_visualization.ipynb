{
 "cells": [
  {
   "cell_type": "code",
   "execution_count": 1,
   "metadata": {
    "collapsed": false
   },
   "outputs": [
    {
     "name": "stdout",
     "output_type": "stream",
     "text": [
      "Populating the interactive namespace from numpy and matplotlib\n"
     ]
    }
   ],
   "source": [
    "%pylab inline\n",
    "from state.map import X_MAX, Y_MAX, ARENA_WALLS \n",
    "from math import sqrt\n",
    "from math import pi\n",
    "import robot.state.particle_filtering\n",
    "import numpy as np"
   ]
  },
  {
   "cell_type": "code",
   "execution_count": 2,
   "metadata": {
    "collapsed": true
   },
   "outputs": [],
   "source": [
    "# Generate empty space with right dimensions\n",
    "\n",
    "def gen_lines():\n",
    "    lines = []\n",
    "    for wall in ARENA_WALLS:\n",
    "        start = wall[0]\n",
    "        delta = wall[1]\n",
    "\n",
    "        end = np.add(start, delta)\n",
    "\n",
    "        line_xs = []\n",
    "        line_ys = []\n",
    "\n",
    "        line_xs.append(start[0])\n",
    "        line_xs.append(end[0])\n",
    "        line_ys.append(start[1])\n",
    "        line_ys.append(end[1])\n",
    "\n",
    "        lines.append(Line2D(line_xs, line_ys, linewidth=2))\n",
    "        \n",
    "    return lines \n",
    "\n",
    "def plot(particles, r):\n",
    "    dpi = 80\n",
    "    width = X_MAX / dpi;\n",
    "    height = Y_MAX / dpi;\n",
    "    figure = plt.figure(figsize=(width,height))\n",
    "\n",
    "    ax = figure.add_subplot(1,1,1)\n",
    "\n",
    "    ax.set_ylim(top=Y_MAX, bottom=0)\n",
    "    ax.set_xlim(right=X_MAX, left=0)\n",
    "\n",
    "    lines = gen_lines()\n",
    "    for line in lines:\n",
    "        ax.add_line(line)\n",
    "\n",
    "    transpose_locations = particles.locations.T\n",
    "    transpose_orientations = particles.orientations.T\n",
    "    \n",
    "    ax.quiver(transpose_locations[0], transpose_locations[1], np.sin(transpose_orientations), np.cos(transpose_orientations), pivot='mid')\n",
    "    \n",
    "    x, y, o = particles.get_position_by_weighted_average()\n",
    "    ax.quiver(x, y, np.sin(o), np.cos(o), color='r', pivot='mid')\n",
    "    x, y, o = particles.get_position_by_max_weight(position_confidence=False)\n",
    "    ax.quiver(x, y, np.sin(o), np.cos(o), color='m', pivot='mid')\n",
    "    ax.quiver(r.location[0], r.location[1], \n",
    "              np.sin(r.orientation), np.cos(r.orientation), \n",
    "              color='b', pivot='mid')\n",
    "\n",
    "    return figure"
   ]
  },
  {
   "cell_type": "code",
   "execution_count": 292,
   "metadata": {
    "collapsed": false
   },
   "outputs": [
    {
     "name": "stdout",
     "output_type": "stream",
     "text": [
      "23:00:03 ::: Weighted average pose: 29.6666679382, 41.6666679382, 0.0503656915029\n",
      "23:00:03 ::: Max weight pose: 31, 44, 0.0711719021201\n"
     ]
    },
    {
     "data": {
      "image/png": "[encoded data removed]",
      "text/plain": [
       "<matplotlib.figure.Figure at 0x114dc9dd0>"
      ]
     },
     "metadata": {},
     "output_type": "display_data"
    }
   ],
   "source": [
    "figure = plot(particles, r)\n",
    "plt.show(figure)"
   ]
  },
  {
   "cell_type": "code",
   "execution_count": 457,
   "metadata": {
    "collapsed": false,
    "scrolled": false
   },
   "outputs": [
    {
     "name": "stdout",
     "output_type": "stream",
     "text": [
      "23:32:39 ::: Initiating particle filtering with setting where=set\n"
     ]
    }
   ],
   "source": [
    "reload(robot.state.particle_filtering)\n",
    "particles = robot.state.particle_filtering.Particles(n=5000, where='set', pose=[30,40,0])\n",
    "r = robot.state.particle_filtering.Robot(30, 40, 0)"
   ]
  },
  {
   "cell_type": "code",
   "execution_count": 459,
   "metadata": {
    "collapsed": false
   },
   "outputs": [
    {
     "name": "stdout",
     "output_type": "stream",
     "text": [
      "23:32:46 ::: Resampling...\n",
      "23:32:49 ::: Resampling...\n",
      "23:32:50 ::: Resampling...\n",
      "23:32:50 ::: Resampling...\n",
      "23:32:50 ::: Resampling...\n",
      "23:32:50 ::: Resampling...\n",
      "23:32:51 ::: Resampling...\n",
      "23:32:51 ::: Resampling...\n",
      "23:32:51 ::: Resampling...\n",
      "23:32:51 ::: Resampling...\n",
      "23:32:51 ::: Weighted average pose: 29.6875801086, 35.500125885, -0.0055144703947\n",
      "[30 38]\n",
      "23:32:51 ::: Max weight pose: 30, 38, 6.26173114777\n"
     ]
    },
    {
     "data": {
      "image/png": "[encoded data removed]",
      "text/plain": [
       "<matplotlib.figure.Figure at 0x1164d2ad0>"
      ]
     },
     "metadata": {},
     "output_type": "display_data"
    },
    {
     "name": "stdout",
     "output_type": "stream",
     "text": [
      "23:32:51 ::: Resampling...\n"
     ]
    }
   ],
   "source": [
    "for i in xrange(10):\n",
    "    factor = 10\n",
    "    r.rotate(pi/factor)\n",
    "    particles.rotate(pi/factor)\n",
    "    particles.sense(r.measurement_prediction())\n",
    "    distance = 10.0\n",
    "    r.forward(distance)\n",
    "    particles.forward(distance)\n",
    "    particles.sense(r.measurement_prediction())\n",
    "    particles.resample()\n",
    "figure = plot(particles, r)\n",
    "plt.show(figure)\n",
    "particles.resample()"
   ]
  },
  {
   "cell_type": "code",
   "execution_count": null,
   "metadata": {
    "collapsed": false
   },
   "outputs": [],
   "source": [
    "particles.N"
   ]
  },
  {
   "cell_type": "code",
   "execution_count": null,
   "metadata": {
    "collapsed": false,
    "scrolled": true
   },
   "outputs": [],
   "source": [
    "particles.get_position_by_max_weight()"
   ]
  },
  {
   "cell_type": "code",
   "execution_count": null,
   "metadata": {
    "collapsed": false
   },
   "outputs": [],
   "source": [
    "r.measurement_prediction()"
   ]
  },
  {
   "cell_type": "code",
   "execution_count": null,
   "metadata": {
    "collapsed": true
   },
   "outputs": [],
   "source": [
    "particles.resample()"
   ]
  },
  {
   "cell_type": "code",
   "execution_count": null,
   "metadata": {
    "collapsed": false
   },
   "outputs": [],
   "source": [
    "np.random.random((10,2))[0][1]"
   ]
  },
  {
   "cell_type": "code",
   "execution_count": null,
   "metadata": {
    "collapsed": false
   },
   "outputs": [],
   "source": [
    "robot.measurement_prediction()"
   ]
  },
  {
   "cell_type": "code",
   "execution_count": null,
   "metadata": {
    "collapsed": false
   },
   "outputs": [],
   "source": [
    "robot.rotate(1)"
   ]
  },
  {
   "cell_type": "code",
   "execution_count": null,
   "metadata": {
    "collapsed": true
   },
   "outputs": [],
   "source": [
    "particles.resample()"
   ]
  },
  {
   "cell_type": "code",
   "execution_count": null,
   "metadata": {
    "collapsed": true
   },
   "outputs": [],
   "source": [
    "orientations = np.zeros(10)\n",
    "ROTATION_STD_ABS = (5.0/360.0)*2*pi\n",
    "rotation = 1"
   ]
  },
  {
   "cell_type": "code",
   "execution_count": null,
   "metadata": {
    "collapsed": false
   },
   "outputs": [],
   "source": [
    "%timeit (orientations + (np.random.rand(10) * ROTATION_STD_ABS - 0.5 * ROTATION_STD_ABS + rotation)) % (2.0 * pi)"
   ]
  },
  {
   "cell_type": "code",
   "execution_count": null,
   "metadata": {
    "collapsed": false
   },
   "outputs": [],
   "source": [
    "%timeit np.mod(np.add(orientations,np.add(np.multiply(np.random.rand(10),ROTATION_STD_ABS),-0.5*ROTATION_STD_ABS + rotation)), 2.0 * pi)"
   ]
  },
  {
   "cell_type": "code",
   "execution_count": null,
   "metadata": {
    "collapsed": false
   },
   "outputs": [],
   "source": [
    "reload(robot.state.particle_filtering)"
   ]
  },
  {
   "cell_type": "code",
   "execution_count": null,
   "metadata": {
    "collapsed": true
   },
   "outputs": [],
   "source": [
    "robot.state.particle_filtering.Particles.generate_raycasting_distances(0,1)"
   ]
  },
  {
   "cell_type": "code",
   "execution_count": null,
   "metadata": {
    "collapsed": false
   },
   "outputs": [],
   "source": [
    "data_00_10 = np.load('BIN_SIZE_8/RAYCASTING_DISTANCES_0_10.npy')\n",
    "data_10_20 = np.load('BIN_SIZE_8/RAYCASTING_DISTANCES_10_20.npy')\n",
    "data_20_30 = np.load('BIN_SIZE_8/RAYCASTING_DISTANCES_20_30.npy')\n",
    "data_30_40 = np.load('BIN_SIZE_8/RAYCASTING_DISTANCES_30_40.npy')\n",
    "raycasting_distances = np.concatenate([data_00_10[0:10],data_10_20[10:20],data_20_30[20:30],data_30_40[30:40]])\n",
    "np.save(\"raycasting_distances_SIZE_BIN_8\", raycasting_distances)"
   ]
  },
  {
   "cell_type": "code",
   "execution_count": null,
   "metadata": {
    "collapsed": true
   },
   "outputs": [],
   "source": [
    "data_00_10 = np.load('BIN_SIZE_2/RAYCASTING_DISTANCES_0_40.npy')\n",
    "data_10_20 = np.load('BIN_SIZE_2/RAYCASTING_DISTANCES_40_80.npy')\n",
    "data_20_30 = np.load('BIN_SIZE_2/RAYCASTING_DISTANCES_80_120.npy')\n",
    "data_30_40 = np.load('BIN_SIZE_2/RAYCASTING_DISTANCES_120_160.npy')\n",
    "raycasting_distances = np.concatenate([data_00_10[0:40],data_10_20[40:80],data_20_30[80:120],data_30_40[120:160]])\n",
    "np.save(\"raycasting_distances_SIZE_BIN_2\", raycasting_distances)"
   ]
  },
  {
   "cell_type": "code",
   "execution_count": null,
   "metadata": {
    "collapsed": false
   },
   "outputs": [],
   "source": [
    "data_00_10 = np.load('BIN_SIZE_4/RAYCASTING_DISTANCES_0_10.npy')\n",
    "data_10_20 = np.load('BIN_SIZE_4/RAYCASTING_DISTANCES_10_20.npy')\n",
    "data_20_30 = np.load('BIN_SIZE_4/RAYCASTING_DISTANCES_20_30.npy')\n",
    "data_30_40 = np.load('BIN_SIZE_4/RAYCASTING_DISTANCES_30_40.npy')\n",
    "data_40_50 = np.load('BIN_SIZE_4/RAYCASTING_DISTANCES_40_50.npy')\n",
    "data_50_60 = np.load('BIN_SIZE_4/RAYCASTING_DISTANCES_50_60.npy')\n",
    "data_60_70 = np.load('BIN_SIZE_4/RAYCASTING_DISTANCES_60_70.npy')\n",
    "data_70_80 = np.load('BIN_SIZE_4/RAYCASTING_DISTANCES_70_80.npy')\n",
    "raycasting_distances = np.concatenate([data_00_10[0:10],data_10_20[10:20],data_20_30[20:30],data_30_40[30:40],\n",
    "                                      data_40_50[40:50],data_50_60[50:60],data_60_70[60:70],data_70_80[70:80]])\n",
    "np.save(\"raycasting_distances_SIZE_BIN_4\", raycasting_distances)"
   ]
  },
  {
   "cell_type": "code",
   "execution_count": null,
   "metadata": {
    "collapsed": true
   },
   "outputs": [],
   "source": [
    "data_00_10 = np.load('BIN_SIZE_2/RAYCASTING_DISTANCES_0_20.npy')\n",
    "data_10_20 = np.load('BIN_SIZE_2/RAYCASTING_DISTANCES_20_40.npy')\n",
    "data_20_30 = np.load('BIN_SIZE_2/RAYCASTING_DISTANCES_40_60.npy')\n",
    "data_30_40 = np.load('BIN_SIZE_2/RAYCASTING_DISTANCES_60_80.npy')\n",
    "data_40_50 = np.load('BIN_SIZE_2/RAYCASTING_DISTANCES_80_100.npy')\n",
    "data_50_60 = np.load('BIN_SIZE_2/RAYCASTING_DISTANCES_100_120.npy')\n",
    "data_60_70 = np.load('BIN_SIZE_2/RAYCASTING_DISTANCES_120_140.npy')\n",
    "data_70_80 = np.load('BIN_SIZE_2/RAYCASTING_DISTANCES_140_160.npy')\n",
    "raycasting_distances = np.concatenate([data_00_10[0:20],data_10_20[20:40],data_20_30[40:60],data_30_40[60:80],\n",
    "                                      data_40_50[80:100],data_50_60[100:120],data_60_70[120:140],data_70_80[140:160]])\n",
    "np.save(\"raycasting_distances_SIZE_BIN_2\", raycasting_distances)"
   ]
  },
  {
   "cell_type": "code",
   "execution_count": null,
   "metadata": {
    "collapsed": false,
    "scrolled": true
   },
   "outputs": [],
   "source": [
    "raycasting_distances.T.shape"
   ]
  },
  {
   "cell_type": "code",
   "execution_count": null,
   "metadata": {
    "collapsed": false,
    "scrolled": false
   },
   "outputs": [],
   "source": [
    "raycasting_distances.T[1].shape"
   ]
  },
  {
   "cell_type": "code",
   "execution_count": null,
   "metadata": {
    "collapsed": true
   },
   "outputs": [],
   "source": [
    "data_00_10 = np.load('BIN_SIZE_2/RAYCASTING_DISTANCES_0_40.npy')\n",
    "data_10_20 = np.load('BIN_SIZE_2/RAYCASTING_DISTANCES_40_80.npy')\n",
    "data_20_30 = np.load('BIN_SIZE_2/RAYCASTING_DISTANCES_80_120.npy')\n",
    "data_30_40 = np.load('BIN_SIZE_2/RAYCASTING_DISTANCES_120_160.npy')\n",
    "raycasting_distances = np.concatenate([data_00_10[0:40],data_10_20[40:80],data_20_30[80:120],data_30_40[120:160]])"
   ]
  },
  {
   "cell_type": "code",
   "execution_count": null,
   "metadata": {
    "collapsed": true
   },
   "outputs": [],
   "source": [
    "old_raycast = np.load('raycasting_distances_SIZE_BIN_2_forward.npy')\n",
    "new_raycast = raycasting_distances\n",
    "oldT = old_raycast.T\n",
    "newT = new_raycast.T\n",
    "oldT[1] = newT[1]\n",
    "new_to_save = oldT.T\n",
    "np.save(\"raycasting_distances_SIZE_BIN_2_orthogonal_IRs\", new_to_save)"
   ]
  },
  {
   "cell_type": "code",
   "execution_count": null,
   "metadata": {
    "collapsed": false
   },
   "outputs": [],
   "source": [
    "new_to_save"
   ]
  },
  {
   "cell_type": "code",
   "execution_count": null,
   "metadata": {
    "collapsed": false
   },
   "outputs": [],
   "source": [
    "data = []\n",
    "for i in xrange(8):\n",
    "    data.append(np.load('bin2/data_' + str(i*20) + '_' + str((i+1)*20) + '.dat.npy')[i*20:(i+1)*20])\n",
    "raycasting_distances_bin2 = np.concatenate(data)\n",
    "raycasting_distances_bin2"
   ]
  },
  {
   "cell_type": "code",
   "execution_count": null,
   "metadata": {
    "collapsed": true
   },
   "outputs": [],
   "source": [
    "#a = robot.state.particle_filtering.Particles.generate_closest_distances()\n",
    "#np.save(\"closest_distances\", a)"
   ]
  },
  {
   "cell_type": "code",
   "execution_count": null,
   "metadata": {
    "collapsed": false
   },
   "outputs": [],
   "source": [
    "np.cumsum(np.arange(5))"
   ]
  },
  {
   "cell_type": "code",
   "execution_count": null,
   "metadata": {
    "collapsed": true
   },
   "outputs": [],
   "source": [
    "np.save(\"raycasting_distances_bin2\", raycasting_distances_bin2)"
   ]
  },
  {
   "cell_type": "code",
   "execution_count": null,
   "metadata": {
    "collapsed": false
   },
   "outputs": [],
   "source": [
    "raycasting_distances[3][3][126]"
   ]
  },
  {
   "cell_type": "code",
   "execution_count": null,
   "metadata": {
    "collapsed": false
   },
   "outputs": [],
   "source": [
    "reload(state.particle_filtering)"
   ]
  },
  {
   "cell_type": "code",
   "execution_count": null,
   "metadata": {
    "collapsed": true
   },
   "outputs": [],
   "source": [
    "n=100000\n",
    "distance = 60\n",
    "measurements = state.particle_filtering.Particles.model_beam(distance, n)\n",
    "predictions = np.multiply(np.ones(n), distance)"
   ]
  },
  {
   "cell_type": "code",
   "execution_count": null,
   "metadata": {
    "collapsed": false
   },
   "outputs": [],
   "source": [
    "state.particle_filtering.Particles.learn_intrinsic_parameters(measurements, predictions)"
   ]
  },
  {
   "cell_type": "code",
   "execution_count": null,
   "metadata": {
    "collapsed": false,
    "scrolled": true
   },
   "outputs": [],
   "source": [
    "\n",
    "np.std(measurements)"
   ]
  },
  {
   "cell_type": "code",
   "execution_count": null,
   "metadata": {
    "collapsed": false
   },
   "outputs": [],
   "source": [
    "a = []\n",
    "f = open('./log/collect_front_IR_and_sonar_measurements0.csv', 'r')\n",
    "line = f.readline()\n",
    "while line:\n",
    "    line = line.replace(\"\\n\", \"\")\n",
    "    line = line.replace(\"[\", \"\")\n",
    "    line = line.replace(\"]\", \"\")\n",
    "    line = line.split(\",\")\n",
    "    b=[]\n",
    "    for i in line:\n",
    "        b.append(float(i))\n",
    "    a.append(b)\n",
    "    line = f.readline()\n",
    "\n",
    "measurements = np.array(a)"
   ]
  },
  {
   "cell_type": "code",
   "execution_count": null,
   "metadata": {
    "collapsed": false
   },
   "outputs": [],
   "source": [
    "measurements.T[0].shape"
   ]
  },
  {
   "cell_type": "code",
   "execution_count": null,
   "metadata": {
    "collapsed": true
   },
   "outputs": [],
   "source": [
    "predictions = np.multiply(59.0, np.ones(measurements.T[0].shape))"
   ]
  },
  {
   "cell_type": "code",
   "execution_count": null,
   "metadata": {
    "collapsed": true
   },
   "outputs": [],
   "source": [
    "predictions120 = np.multiply(120.0, np.ones(measurements.T[0].shape))"
   ]
  },
  {
   "cell_type": "code",
   "execution_count": null,
   "metadata": {
    "collapsed": false
   },
   "outputs": [],
   "source": [
    "predictions.shape"
   ]
  },
  {
   "cell_type": "code",
   "execution_count": null,
   "metadata": {
    "collapsed": false
   },
   "outputs": [],
   "source": [
    "import robot.state.particle_filtering\n",
    "reload(robot.state.particle_filtering)"
   ]
  },
  {
   "cell_type": "code",
   "execution_count": null,
   "metadata": {
    "collapsed": false
   },
   "outputs": [],
   "source": [
    "robot.state.particle_filtering.Particles.learn_intrinsic_parameters(measurements.T[0], predictions120)"
   ]
  },
  {
   "cell_type": "code",
   "execution_count": null,
   "metadata": {
    "collapsed": false,
    "scrolled": true
   },
   "outputs": [],
   "source": [
    "robot.state.particle_filtering.Particles.learn_intrinsic_parameters(measurements.T[1], predictions)"
   ]
  },
  {
   "cell_type": "code",
   "execution_count": null,
   "metadata": {
    "collapsed": false
   },
   "outputs": [],
   "source": [
    "robot.state.particle_filtering.Particles.learn_intrinsic_parameters(measurements.T[2], predictions)"
   ]
  }
 ],
 "metadata": {
  "kernelspec": {
   "display_name": "Python 2",
   "language": "python",
   "name": "python2"
  },
  "language_info": {
   "codemirror_mode": {
    "name": "ipython",
    "version": 2
   },
   "file_extension": ".py",
   "mimetype": "text/x-python",
   "name": "python",
   "nbconvert_exporter": "python",
   "pygments_lexer": "ipython2",
   "version": "2.7.10"
  }
 },
 "nbformat": 4,
 "nbformat_minor": 0
}
